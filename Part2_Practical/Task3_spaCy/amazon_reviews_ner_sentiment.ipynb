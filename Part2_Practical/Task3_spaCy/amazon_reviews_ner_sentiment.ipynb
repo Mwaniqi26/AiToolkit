{
 "cells": [
  {
   "cell_type": "code",
   "execution_count": null,
   "metadata": {},
   "outputs": [],
   "source": [
    "import spacy\n",
    "from textblob import TextBlob\n",
    "\n",
    "# Load spaCy model\n",
    "nlp = spacy.load(\"en_core_web_sm\")\n",
    "\n",
    "# Example review\n",
    "review = \"I love my new Apple iPhone! The camera is better than Samsung.\"\n",
    "\n",
    "# Process text\n",
    "doc = nlp(review)\n",
    "\n",
    "# Named Entity Recognition\n",
    "print(\"Entities:\")\n",
    "for ent in doc.ents:\n",
    "    print(ent.text, \"-\", ent.label_)\n",
    "\n",
    "# Sentiment Analysis (basic)\n",
    "blob = TextBlob(review)\n",
    "print(\"\\nSentiment Polarity:\", blob.sentiment.polarity)\n",
    "if blob.sentiment.polarity > 0:\n",
    "    print(\"Sentiment: Positive\")\n",
    "elif blob.sentiment.polarity < 0:\n",
    "    print(\"Sentiment: Negative\")\n",
    "else:\n",
    "    print(\"Sentiment: Neutral\")\n"
   ]
  }
 ],
 "metadata": {
  "language_info": {
   "name": "python"
  }
 },
 "nbformat": 4,
 "nbformat_minor": 2
}
