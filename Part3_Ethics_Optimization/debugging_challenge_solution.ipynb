{
 "cells": [
  {
   "cell_type": "code",
   "execution_count": null,
   "metadata": {},
   "outputs": [],
   "source": [
    "# Debugging a TensorFlow Script: Fixing Shape Mismatch and Loss Function Errors\n",
    "\n",
    "import tensorflow as tf\n",
    "from tensorflow.keras import layers, models\n",
    "import numpy as np\n",
    "\n",
    "# Simulated broken script (example of what might be provided)\n",
    "try:\n",
    "    model = models.Sequential([\n",
    "        layers.Dense(128, activation='relu', input_shape=(28, 28)),  # ERROR: shape should be flattened\n",
    "        layers.Dense(10, activation='softmax')\n",
    "    ])\n",
    "    model.compile(optimizer='adam', loss='binary_crossentropy', metrics=['accuracy'])  # ERROR: wrong loss\n",
    "except Exception as e:\n",
    "    print(\"Broken Script Error:\", e)\n",
    "\n",
    "# ✅ FIXED Version\n",
    "# Step 1: Flatten input\n",
    "# Step 2: Use correct loss function for multi-class classification\n",
    "\n",
    "model = models.Sequential([\n",
    "    layers.Flatten(input_shape=(28, 28)),  # Flatten 28x28 image\n",
    "    layers.Dense(128, activation='relu'),\n",
    "    layers.Dense(10, activation='softmax')\n",
    "])\n",
    "\n",
    "# Correct loss function: categorical_crossentropy (if one-hot) or sparse_categorical_crossentropy (for labels)\n",
    "model.compile(optimizer='adam',\n",
    "              loss='sparse_categorical_crossentropy',\n",
    "              metrics=['accuracy'])\n",
    "\n",
    "# Dummy data for test\n",
    "X = np.random.rand(100, 28, 28)\n",
    "y = np.random.randint(0, 10, 100)\n",
    "\n",
    "# Fit to test\n",
    "model.fit(X, y, epochs=2)\n"
   ]
  }
 ],
 "metadata": {
  "language_info": {
   "name": "python"
  }
 },
 "nbformat": 4,
 "nbformat_minor": 2
}
